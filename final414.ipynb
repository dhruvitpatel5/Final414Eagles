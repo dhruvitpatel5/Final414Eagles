{
 "cells": [
  {
   "cell_type": "code",
   "execution_count": 1,
   "metadata": {},
   "outputs": [],
   "source": [
    "import pandas as pd\n",
    "import numpy as np\n",
    "from sklearn.metrics.pairwise import cosine_similarity\n"
   ]
  },
  {
   "cell_type": "code",
   "execution_count": 2,
   "metadata": {},
   "outputs": [],
   "source": [
    "file_path = 'FantasyPros_Fantasy_Football_Statistics_WR.csv'\n",
    "wr_df = pd.read_csv(file_path)\n"
   ]
  },
  {
   "cell_type": "code",
   "execution_count": 3,
   "metadata": {},
   "outputs": [],
   "source": [
    "wr_df['YDS'] = pd.to_numeric(wr_df['YDS'].str.replace(',', ''), errors='coerce')\n",
    "wr_df.dropna(subset=['REC', 'TGT', 'YDS', 'TD', 'Y/R', '20+'], inplace=True) \n",
    "\n",
    "players = ['A.J. Brown (PHI)', 'DeVonta Smith (PHI)','DeVante Parker (PHI)']\n",
    "stats = ['REC', 'TGT', 'YDS', 'TD', 'Y/R', '20+']\n",
    "new_stats = wr_df[stats]\n"
   ]
  },
  {
   "cell_type": "code",
   "execution_count": 4,
   "metadata": {},
   "outputs": [
    {
     "name": "stdout",
     "output_type": "stream",
     "text": [
      "        \n",
      "Other Wide Receivers similar to  A.J. Brown (PHI) :\n",
      "A.J. Brown (PHI) [[1.]]\n",
      "Puka Nacua (LAR) [[0.99999085]]\n",
      "DeVonta Smith (PHI) [[0.99998139]]\n",
      "Amon-Ra St. Brown (DET) [[0.99998132]]\n",
      "CeeDee Lamb (DAL) [[0.99997415]]\n",
      "Jaylen Waddle (MIA) [[0.99996961]]\n",
      "Christian Kirk (JAC) [[0.99994995]]\n",
      "DJ Moore (CHI) [[0.99993618]]\n",
      "Jerry Jeudy (CLE) [[0.99992798]]\n",
      "Rashee Rice (KC) [[0.99990813]]\n",
      "        \n",
      "Other Wide Receivers similar to  DeVonta Smith (PHI) :\n",
      "DeVonta Smith (PHI) [[1.]]\n",
      "CeeDee Lamb (DAL) [[0.99998418]]\n",
      "A.J. Brown (PHI) [[0.99998136]]\n",
      "Amon-Ra St. Brown (DET) [[0.99997989]]\n",
      "Puka Nacua (LAR) [[0.99997439]]\n",
      "Jaylen Waddle (MIA) [[0.99997397]]\n",
      "Christian Kirk (JAC) [[0.99996528]]\n",
      "DJ Moore (CHI) [[0.99995761]]\n",
      "Rashee Rice (KC) [[0.99992641]]\n",
      "Jerry Jeudy (CLE) [[0.99991441]]\n",
      "        \n",
      "Other Wide Receivers similar to  DeVante Parker (PHI) :\n",
      "DeVante Parker (PHI) [[1.]]\n",
      "Michael Gallup (FA) [[0.99997389]]\n",
      "Brandon Powell (MIN) [[0.99996261]]\n",
      "Michael Thomas (NO) [[0.99995598]]\n",
      "DeMario Douglas (NE) [[0.99994362]]\n",
      "K.J. Osborn (NE) [[0.99992957]]\n",
      "Kendrick Bourne (NE) [[0.99991318]]\n",
      "Darnell Mooney (ATL) [[0.9998899]]\n",
      "Tutu Atwell (LAR) [[0.99988043]]\n",
      "Greg Dortch (ARI) [[0.99987977]]\n"
     ]
    },
    {
     "name": "stderr",
     "output_type": "stream",
     "text": [
      "/var/folders/sl/rg_ffmq91nv7yn26zyxvc2_00000gn/T/ipykernel_32921/2100981617.py:8: SettingWithCopyWarning: \n",
      "A value is trying to be set on a copy of a slice from a DataFrame.\n",
      "Try using .loc[row_indexer,col_indexer] = value instead\n",
      "\n",
      "See the caveats in the documentation: https://pandas.pydata.org/pandas-docs/stable/user_guide/indexing.html#returning-a-view-versus-a-copy\n",
      "  new_stats['cosine_similarity'] = new_stats.apply(cosine_sim,args=(player_stats,),axis=1)\n",
      "/var/folders/sl/rg_ffmq91nv7yn26zyxvc2_00000gn/T/ipykernel_32921/2100981617.py:8: SettingWithCopyWarning: \n",
      "A value is trying to be set on a copy of a slice from a DataFrame.\n",
      "Try using .loc[row_indexer,col_indexer] = value instead\n",
      "\n",
      "See the caveats in the documentation: https://pandas.pydata.org/pandas-docs/stable/user_guide/indexing.html#returning-a-view-versus-a-copy\n",
      "  new_stats['cosine_similarity'] = new_stats.apply(cosine_sim,args=(player_stats,),axis=1)\n",
      "/var/folders/sl/rg_ffmq91nv7yn26zyxvc2_00000gn/T/ipykernel_32921/2100981617.py:8: SettingWithCopyWarning: \n",
      "A value is trying to be set on a copy of a slice from a DataFrame.\n",
      "Try using .loc[row_indexer,col_indexer] = value instead\n",
      "\n",
      "See the caveats in the documentation: https://pandas.pydata.org/pandas-docs/stable/user_guide/indexing.html#returning-a-view-versus-a-copy\n",
      "  new_stats['cosine_similarity'] = new_stats.apply(cosine_sim,args=(player_stats,),axis=1)\n"
     ]
    }
   ],
   "source": [
    "for p in players:\n",
    "    player_indexes = wr_df[wr_df['Player'] == p].index\n",
    "    player_stats = new_stats.loc[player_indexes].values.reshape(1, -1)\n",
    "    \n",
    "    def cosine_sim(row, player_stats): \n",
    "        reshape = row.values.reshape(1, -1)\n",
    "        return cosine_similarity(reshape , player_stats)\n",
    "    new_stats['cosine_similarity'] = new_stats.apply(cosine_sim,args=(player_stats,),axis=1)\n",
    "    cos = new_stats.sort_values(by='cosine_similarity', ascending=False).head(10)\n",
    "\n",
    "    print('        ')\n",
    "    print('Other Wide Receivers similar to ', p, \":\")\n",
    "    for index in cos.index:\n",
    "        similarity_score = new_stats.loc[index, 'cosine_similarity']\n",
    "        print(wr_df.loc[index, 'Player'], similarity_score) \n",
    "        \n",
    "        \n",
    "        \n",
    "        "
   ]
  }
 ],
 "metadata": {
  "kernelspec": {
   "display_name": "base",
   "language": "python",
   "name": "python3"
  },
  "language_info": {
   "codemirror_mode": {
    "name": "ipython",
    "version": 3
   },
   "file_extension": ".py",
   "mimetype": "text/x-python",
   "name": "python",
   "nbconvert_exporter": "python",
   "pygments_lexer": "ipython3",
   "version": "3.11.5"
  }
 },
 "nbformat": 4,
 "nbformat_minor": 2
}
